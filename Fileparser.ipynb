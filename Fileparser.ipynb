{
 "cells": [
  {
   "cell_type": "code",
   "execution_count": 5,
   "metadata": {},
   "outputs": [],
   "source": [
    "import logging,sys\n",
    "def readFileUsingStreams(filename):\n",
    "    '''\n",
    "    readFileUsingStreams is used to check for the file format and read the files- regarless it is a data file or meta-data file.\n",
    "    If the file format is supported, it returns the content of the File in seperate lines.\n",
    "    If the  format of the file is not supported , the subroutine shall explicitly explain why it Failed.\n",
    "    This function shall be used by other functions to read the file.\n",
    "    '''\n",
    "    lines=[]\n",
    "    filename=filename # The file to be read\n",
    "    extension=filename.split(\".\")[-1] #Checking the file extension\n",
    "    delim=''\n",
    "    if extension=='csv' or 'xls' or 'xlsx': # Based on the file type the delimiter shall be choosen\n",
    "        delim=',' # Just for a prototype csv is being considered\n",
    "    with open(filename,encoding=\"utf-8\") as fhandler:\n",
    "        try:\n",
    "            for line in fhandler.readlines():\n",
    "                lines.append(line.strip().split(delim))\n",
    "                #print(lines)\n",
    "            return(lines)\n",
    "        except IOError as e:\n",
    "                print (\"I/O error({0}): {1}\".format(e.errno, e.strerror))\n",
    "                logging.basicConfig(filename=\"Error.log\",level=2)\n",
    "                logging.error(str(e))\n",
    "        except Exception as E: #handle other exceptions such as attribute errors\n",
    "            print (\"Unexpected error:\", sys.exc_info()[0])\n",
    "            print('Error opening the file',E)\n",
    "            logging.basicConfig(filename=\"Error.log\",level=2)\n",
    "            logging.error(str(E),sys.exc_info()[0]) # If this error has to be written to A file\n"
   ]
  },
  {
   "cell_type": "code",
   "execution_count": 6,
   "metadata": {},
   "outputs": [],
   "source": [
    "from collections import OrderedDict,defaultdict\n",
    "def parseMetaDateFile(metadatafile):\n",
    "    '''\n",
    "    parseMetaDateFile shall understand the meta data file and translate the definitions to implement on the data \n",
    "    file. So it shall be called by ParsefixedFile and it returns the meta-data definitions in a dictionary.\n",
    "    '''\n",
    "    metadatafile=metadatafile # meta data file to be translated\n",
    "    extension=metadatafile.split(\".\")[-1] #Checking the file extension\n",
    "    delimiter=''\n",
    "    if extension=='csv' or 'xls' or 'xlsx': # Based on the file type the delimiter shall be choosen\n",
    "        delimiter=',' # Just for a prototype csv is being considered\n",
    "    lines=readFileUsingStreams(metadatafile)\n",
    "    metadata=defaultdict(list)\n",
    "    columnnames=[]                    \n",
    "    for word in lines:\n",
    "        inner_dict=dict()\n",
    "        #print(\"words\",word)\n",
    "        inner_dict['length']=word[1]\n",
    "        inner_dict['type']=word[2]\n",
    "        metadata[word[0]]=inner_dict\n",
    "        columnnames.append(word[0])\n",
    "        \n",
    "    #print(metadata)\n",
    "    return metadata,columnnames"
   ]
  },
  {
   "cell_type": "code",
   "execution_count": 7,
   "metadata": {},
   "outputs": [],
   "source": [
    "import csv,logging\n",
    "class FormatError(Exception):   # U need to define ur own exception\n",
    "    pass  # Pass is a Keyword which is a null operation-- when it is executed, nothing happens\n",
    "\n",
    "def parseFixedFile(datafilename,metadatafilename):\n",
    "    '''\n",
    "    This function shall take the raw data file and meta data file and generate the final ouput file intended as\n",
    "    per the meta data file. A csv file shall be created with the translated output.\n",
    "    '''\n",
    "    datafile=datafilename\n",
    "    metadatafile=metadatafilename\n",
    "    datalines=readFileUsingStreams(datafile)\n",
    "    metadata,columns=parseMetaDateFile(metadatafile)\n",
    "    lines=''\n",
    "    output=[]\n",
    "    for line in datalines:\n",
    "        start=0\n",
    "        lineoutput=[]\n",
    "        line=''.join(line)\n",
    "        for item in metadata:\n",
    "            getType=metadata[item]['type'] #implementing the typecheck for date alone.Can be implemented for other\n",
    "            # And remote cases aswell\n",
    "            if getType==\"date\":\n",
    "                if len(line[start:start+int(metadata[item]['length'])].strip())==int(metadata[item]['length']):\n",
    "                    date_res=line[start:start+int(metadata[item]['length'])].strip().split('-')\n",
    "                    lineoutput.append(\"-\".join(date_res[::-1]))\n",
    "                else:\n",
    "                    raise FormatError(\"IP address Format is wrong\") # In this case it will create its own exception\n",
    "                    \n",
    "            else:\n",
    "                lineoutput.append(line[start:start+int(metadata[item]['length'])].strip())\n",
    "            start=start+int(metadata[item]['length'])\n",
    "        output.append(lineoutput)\n",
    "   # print(output)\n",
    "    \n",
    "    with open('result.csv', 'a',encoding='utf-8') as csvFile:\n",
    "        writer = csv.writer(csvFile)\n",
    "        try:\n",
    "            writer.writerow(columns)\n",
    "            for row in output:\n",
    "                writer.writerow(row)\n",
    "        except Exception as E: #handle other exceptions such as attribute errors\n",
    "            raise Exception('Exception: {}'.format(str(E).decode('utf-8')).encode('utf-8'))\n",
    "            \n",
    "            logging.basicConfig(filename=\"Encoding.log\",level=2)\n",
    "            logging.error(str(E),sys.exc_info()[0])\n",
    "    csvFile.close()\n",
    "    return ('Output file with name result.csv succesfuly created in the same location')"
   ]
  },
  {
   "cell_type": "code",
   "execution_count": 8,
   "metadata": {},
   "outputs": [
    {
     "data": {
      "text/plain": [
       "'Output file with name result.csv succesfuly created in the same location'"
      ]
     },
     "execution_count": 8,
     "metadata": {},
     "output_type": "execute_result"
    }
   ],
   "source": [
    "# Sample output\n",
    "parseFixedFile(datafilename='abc.log',metadatafilename='meta_datafile.csv')"
   ]
  },
  {
   "cell_type": "code",
   "execution_count": null,
   "metadata": {},
   "outputs": [],
   "source": []
  }
 ],
 "metadata": {
  "kernelspec": {
   "display_name": "Python 3",
   "language": "python",
   "name": "python3"
  },
  "language_info": {
   "codemirror_mode": {
    "name": "ipython",
    "version": 3
   },
   "file_extension": ".py",
   "mimetype": "text/x-python",
   "name": "python",
   "nbconvert_exporter": "python",
   "pygments_lexer": "ipython3",
   "version": "3.6.3"
  }
 },
 "nbformat": 4,
 "nbformat_minor": 2
}
